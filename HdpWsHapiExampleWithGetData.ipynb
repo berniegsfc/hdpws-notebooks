{
 "cells": [
  {
   "cell_type": "markdown",
   "id": "935926cf",
   "metadata": {},
   "source": [
    "# hdpws HAPI Example Jupyter Notebook\n",
    "![SPASE inside](https://spase-group.org/assets/images/spase-inside.png)\n",
    "<img src=\"https://cdaweb.gsfc.nasa.gov/registry/hdp/hapi/HAPI.svg\" alt=\"HAPI\" width=\"200\" height=\"100\"/>\n",
    "\n",
    "This [Jupyter notebook](https://jupyter.org/) demonstrates using the [hdpws](https://pypi.org/project/hdpws/) Python package to find [HAPI](http://hapi-server.org/) accessible data from the [Space Physics Archive Search and Extract](https://spase-group.org/) (SPASE) metadata documents at the [Heliophysics Data Portal](https://heliophysicsdata.gsfc.nasa.gov/) (HDP).  It then retrieves some of the data using the  [hapiclient](https://pypi.org/project/hapiclient/) library.  It assumes some familarity with the [SPASE data model](https://spase-group.org/data/index.html).  This notebook contains the following sections:\n",
    "1. [Prerequisites](#Prerequisites)\n",
    "2. [Setup](#Setup)\n",
    "3. [Discover the Software used to access data](#Discover-the-Software-used-to-access-data)\n",
    "4. [Get MeasurementTypes](#Get-MeasurementTypes)\n",
    "5. [Get ObservedRegions](#Get-ObservedRegions)\n",
    "6. [Get ObservatoryIDs](#Get-ObservatoryIDs)\n",
    "7. [Get NumericalData](#Get-NumericalData)\n",
    "8. [Get The Data](#Get-The-Data)\n",
    "9. [Plot The Data](#Get-The-Data)\n",
    "10. [Additional Documentation](#Additional-Documentation)"
   ]
  },
  {
   "cell_type": "markdown",
   "id": "ae9dbc3c",
   "metadata": {},
   "source": [
    "## Prerequisites\n",
    "Install the prerequisite software from [Python Package Index](https://pypi.org/project/hdpws/) (PyPI) software repository.\n",
    "1. pip install hdpws\n",
    "2. pip install hapiclient\n",
    "3. pip install hapiplot"
   ]
  },
  {
   "cell_type": "markdown",
   "id": "0fafd3ce",
   "metadata": {},
   "source": [
    "## Setup\n",
    "Execute some preliminary code that is necessary before the code that follows."
   ]
  },
  {
   "cell_type": "code",
   "execution_count": 1,
   "id": "d30661e6",
   "metadata": {},
   "outputs": [
    {
     "name": "stdout",
     "output_type": "stream",
     "text": [
      "The history saving thread hit an unexpected error (OperationalError('attempt to write a readonly database')).History will not be written to the database.\n"
     ]
    }
   ],
   "source": [
    "from datetime import datetime, timedelta\n",
    "from hdpws.hdpws import HdpWs\n",
    "from hdpws import NAMESPACES as NS\n",
    "from hdpws.resourcetype import ResourceType as rt\n",
    "from hdpws.spase import HapiAccessURL\n",
    "\n",
    "from IPython.core.display import HTML\n",
    "\n",
    "from hapiclient import hapi, HAPIError\n",
    "from hapiplot import hapiplot\n",
    "\n",
    "hdp = HdpWs()\n",
    "# limit display of long lists\n",
    "DISP_LIMIT = 5\n",
    "\n",
    "def display_link(\n",
    "    url: str,\n",
    "    text: str) -> None:\n",
    "    display(HTML(f'<a href=\"{url}\" target=\"_blank\">{text}</a>'))"
   ]
  },
  {
   "cell_type": "markdown",
   "id": "f6cc2a82-bd04-4788-acf6-6c22dec9bb43",
   "metadata": {},
   "source": [
    "## Discover the Software used to access data\n",
    "The following code demonstrates discovering the software we will use below to get the data we want."
   ]
  },
  {
   "cell_type": "code",
   "execution_count": 2,
   "id": "6a04d80e-96bf-48df-a7dc-d3d8231388cb",
   "metadata": {},
   "outputs": [
    {
     "name": "stdout",
     "output_type": "stream",
     "text": [
      "Software search results:\n"
     ]
    },
    {
     "data": {
      "text/html": [
       "<a href=\"https://heliophysicsdata.gsfc.nasa.gov/WS/hdp/1/Spase?ResourceID=spase://SMWG/Software/hapiclient/python\" target=\"_blank\">Access time series data with HAPI</a>"
      ],
      "text/plain": [
       "<IPython.core.display.HTML object>"
      ]
     },
     "metadata": {},
     "output_type": "display_data"
    }
   ],
   "source": [
    "query = {\n",
    "    'CodeLanguage': 'Python',\n",
    "    'Description': 'HAPI'\n",
    "}\n",
    "result = hdp.get_spase_software(query)\n",
    "if result['HttpStatus'] == 200:\n",
    "    print(f'Software search results:')\n",
    "    for software in result['Result'].findall('.//Software', namespaces=NS):\n",
    "        resource_id = software.findall('.//ResourceID', namespaces=NS)[0].text\n",
    "        resource_name = software.findall('.//ResourceName', namespaces=NS)[0].text\n",
    "        display_link(f'{hdp.endpoint}Spase?ResourceID={resource_id}', resource_name)\n",
    "else:\n",
    "    print(result['HttpStatus'])"
   ]
  },
  {
   "cell_type": "markdown",
   "id": "05ecf16a",
   "metadata": {},
   "source": [
    "## Get MeasurementTypes\n",
    "The following code demonstrates how to get the list of available /Spase/MeasurementType values."
   ]
  },
  {
   "cell_type": "code",
   "execution_count": 3,
   "id": "c6cb611c",
   "metadata": {},
   "outputs": [
    {
     "name": "stdout",
     "output_type": "stream",
     "text": [
      "HDP MeasurementTypes:\n",
      "0. ActivityIndex\n",
      "1. Dopplergram\n",
      "2. Dust\n",
      "3. ElectricField\n",
      "4. EnergeticParticles\n",
      "5. Ephemeris\n",
      "6. ImageIntensity\n",
      "7. InstrumentStatus\n",
      "8. IonComposition\n",
      "9. Irradiance\n",
      "10. MagneticField\n",
      "11. Magnetogram\n",
      "12. NeutralAtomImages\n",
      "13. NeutralGas\n",
      "14. Profile\n",
      "15. Radiance\n",
      "16. Spectrum\n",
      "17. SPICE\n",
      "18. ThermalPlasma\n",
      "19. Waves\n",
      "20. Waves.Active\n",
      "21. Waves.Passive\n"
     ]
    }
   ],
   "source": [
    "result = hdp.get_measurement_types()\n",
    "print(f'HDP MeasurementTypes:')\n",
    "for i, value in enumerate(result['MeasurementType']):\n",
    "    print(f'{i}. {value}')\n"
   ]
  },
  {
   "cell_type": "markdown",
   "id": "6e8179d8",
   "metadata": {},
   "source": [
    "## Get ObservedRegions\n",
    "The following code demonstrates how to get the list of available /Spase/ObservedRegion values."
   ]
  },
  {
   "cell_type": "code",
   "execution_count": 4,
   "id": "1ea18767",
   "metadata": {},
   "outputs": [
    {
     "name": "stdout",
     "output_type": "stream",
     "text": [
      "0. Asteroid\n",
      "1. Comet\n",
      "2. Comet.1PHalley\n",
      "3. Comet.26PGriggSkjellerup\n",
      "4. Comet.67PChuryumovGerasimenko\n",
      "5. Earth\n",
      "...\n",
      "124. Venus.Magnetosphere.RingCurrent\n"
     ]
    }
   ],
   "source": [
    "result = hdp.get_observed_regions()\n",
    "observed_regions = result['ObservedRegion']\n",
    "for i, value in enumerate(observed_regions):\n",
    "    print(f'{i}. {value}')\n",
    "    if i == DISP_LIMIT:\n",
    "        print('...')\n",
    "        print(f'{len(observed_regions) - 1}. {observed_regions[-1]}')\n",
    "        break"
   ]
  },
  {
   "cell_type": "markdown",
   "id": "295af445",
   "metadata": {},
   "source": [
    "## Get ObservatoryIDs\n",
    "The following code demonstrates how to get the list of available /Spase/Observatory/ResourceID values."
   ]
  },
  {
   "cell_type": "code",
   "execution_count": 5,
   "id": "7ffea2fa",
   "metadata": {},
   "outputs": [
    {
     "name": "stdout",
     "output_type": "stream",
     "text": [
      "0. spase://SMWG/Observatory/AE-D\n",
      "1. spase://SMWG/Observatory/Helios1\n",
      "2. spase://SMWG/Observatory/DynamicsExplorer1\n",
      "3. spase://SMWG/Observatory/SolarOrbiter\n",
      "4. spase://SMWG/Observatory/IMP8\n",
      "5. spase://SMWG/Observatory/MarsExpress\n",
      "...\n",
      "4043. spase://SMWG/Observatory/UNH\n"
     ]
    }
   ],
   "source": [
    "result = hdp.get_observatory_ids()\n",
    "observatory_ids = result['ObservatoryID']\n",
    "for i, value in enumerate(observatory_ids):\n",
    "    print(f'{i}. {value}')\n",
    "    if i == DISP_LIMIT:\n",
    "        print('...')\n",
    "        print(f'{len(observatory_ids) - 1}. {observatory_ids[-1]}')\n",
    "        break"
   ]
  },
  {
   "cell_type": "markdown",
   "id": "9591583e",
   "metadata": {},
   "source": [
    "## Get NumericalData\n",
    "The following code demonstrates how to find HAPI accessible SPASE NumericalData documents matching the specified search criteria.  It also demonstrates that a SPASE dataset may correspond to more than one HAPI dataset.  Each HAPI dataset may only have a subset of the SPASE Parameters, so it is important to get parameters of a HAPI dataset from the HAPI server itself (see [Get The Data](#Get-The-Data) section below) instead of using the SPASE ParameterKey values."
   ]
  },
  {
   "cell_type": "code",
   "execution_count": 6,
   "id": "cf7e9809",
   "metadata": {},
   "outputs": [
    {
     "name": "stdout",
     "output_type": "stream",
     "text": [
      "0. ResourceID: spase://NASA/NumericalData/Wind/MFI/PT03S\n",
      "--------------------------------------------------\n",
      "Name: Wind Spacecraft Homepage\n",
      "Description: Wind MFI composite data in GSE and GSM coordinates. The file ...\n",
      "ParameterKeys (abbreviated):\n",
      "0.  Epoch\n",
      "1.  Time_PB5\n",
      "2.  NUM_PTS\n",
      "3.  BF1\n",
      "4.  BRMSF1\n",
      "5.  BGSM\n",
      "...\n",
      "54.  FLAG_O\n"
     ]
    },
    {
     "data": {
      "text/html": [
       "<a href=\"https://heliophysicsdata.gsfc.nasa.gov/WS/hdp/1/Spase?ResourceID=spase://NASA/NumericalData/Wind/MFI/PT03S\" target=\"_blank\">HTML representation of SPASE</a>"
      ],
      "text/plain": [
       "<IPython.core.display.HTML object>"
      ]
     },
     "metadata": {},
     "output_type": "display_data"
    },
    {
     "data": {
      "text/html": [
       "<a href=\"https://cdaweb.gsfc.nasa.gov/registry/hdp/hapi/hapiHtml.html#url=https://cdaweb.gsfc.nasa.gov/hapi&id=WI_H0_MFI@0,WI_H0_MFI@1,WI_H0_MFI@2\" target=\"_blank\">HAPI access information</a>"
      ],
      "text/plain": [
       "<IPython.core.display.HTML object>"
      ]
     },
     "metadata": {},
     "output_type": "display_data"
    },
    {
     "name": "stdout",
     "output_type": "stream",
     "text": [
      "HAPI ProductKeys:\n",
      "0.  WI_H0_MFI@0\n",
      "1.  WI_H0_MFI@1\n",
      "2.  WI_H0_MFI@2\n",
      "\n",
      "1. ResourceID: spase://NASA/NumericalData/Wind/MFI/RTN/PT03S\n",
      "--------------------------------------------------\n",
      "Name: Wind Spacecraft Homepage\n",
      "Description: Wind MFI composite data in RTN coordinates. The files contai ...\n",
      "ParameterKeys (abbreviated):\n",
      "0.  Epoch\n",
      "1.  NUM_PTS\n",
      "2.  BF1\n",
      "3.  BRMSF1\n",
      "4.  BRTN\n",
      "5.  BRMSRTN\n",
      "...\n",
      "33.  FLAG_O\n"
     ]
    },
    {
     "data": {
      "text/html": [
       "<a href=\"https://heliophysicsdata.gsfc.nasa.gov/WS/hdp/1/Spase?ResourceID=spase://NASA/NumericalData/Wind/MFI/RTN/PT03S\" target=\"_blank\">HTML representation of SPASE</a>"
      ],
      "text/plain": [
       "<IPython.core.display.HTML object>"
      ]
     },
     "metadata": {},
     "output_type": "display_data"
    },
    {
     "data": {
      "text/html": [
       "<a href=\"https://cdaweb.gsfc.nasa.gov/registry/hdp/hapi/hapiHtml.html#url=https://cdaweb.gsfc.nasa.gov/hapi&id=WI_H3-RTN_MFI@0,WI_H3-RTN_MFI@1,WI_H3-RTN_MFI@2\" target=\"_blank\">HAPI access information</a>"
      ],
      "text/plain": [
       "<IPython.core.display.HTML object>"
      ]
     },
     "metadata": {},
     "output_type": "display_data"
    },
    {
     "name": "stdout",
     "output_type": "stream",
     "text": [
      "HAPI ProductKeys:\n",
      "0.  WI_H3-RTN_MFI@0\n",
      "1.  WI_H3-RTN_MFI@1\n",
      "2.  WI_H3-RTN_MFI@2\n",
      "\n"
     ]
    }
   ],
   "source": [
    "\n",
    "query = {\n",
    "    'InstrumentID': 'spase://SMWG/Instrument/Wind/MFI',\n",
    "    'Cadence': '=PT3S',\n",
    "    'ObservedRegion': 'Heliosphere.NearEarth',\n",
    "    'MeasurementType': 'MagneticField',\n",
    "    'AccessRights': 'Open',\n",
    "    'Style': 'HAPI'\n",
    "}       \n",
    "types = [rt.NUMERICAL_DATA]\n",
    "time_range = ['2022-01-01', '2022-01-02']\n",
    "result = hdp.get_spase_data(types, query, time_range)\n",
    "if result['HttpStatus'] == 200:\n",
    "    for i, spase in enumerate(result['Result'].findall('.//Spase', namespaces=NS)):\n",
    "        id = spase.find('.//ResourceID', namespaces=NS)\n",
    "        name = spase.find('.//Name', namespaces=NS)\n",
    "        description = spase.find('.//Description',\n",
    "                                 namespaces=NS)\n",
    "        parameter_keys = spase.findall('.//ParameterKey',\n",
    "                                       namespaces=NS)\n",
    "        \n",
    "        print(f'{i}. ResourceID: {id.text}')\n",
    "        print('--------------------------------------------------')\n",
    "        print(f'Name: {name.text}')\n",
    "        print(f'Description: {description.text[:60]} ...')\n",
    "        print(f'ParameterKeys (abbreviated):')\n",
    "        for j, parameter_key in enumerate(parameter_keys):\n",
    "            print(f'{j}.  {parameter_key.text}')\n",
    "            if j == DISP_LIMIT:\n",
    "                print('...')\n",
    "                print(f'{len(parameter_keys) - 1}.  {parameter_keys[-1].text}')\n",
    "                break\n",
    "        display_link(hdp.get_spase_url(id.text), 'HTML representation of SPASE')\n",
    "        hapi_access_url_element = \\\n",
    "            spase.find('.//AccessURL[Style=\"HAPI\"]', namespaces=NS)\n",
    "        if hapi_access_url_element is not None:\n",
    "            hapi_access_url = HapiAccessURL(hapi_access_url_element)\n",
    "            hapi_display_url = hapi_access_url.get_html_url()\n",
    "            display_link(hapi_display_url, 'HAPI access information')\n",
    "            hapi_product_keys = \\\n",
    "                hapi_access_url_element.findall('./ProductKey',\n",
    "                                             namespaces=NS)\n",
    "            print('HAPI ProductKeys:')\n",
    "            for k, hapi_id in enumerate(hapi_product_keys):\n",
    "                print(f'{k}.  {hapi_id.text}')\n",
    "            # just use the first hapi dataset below\n",
    "            hapi_product_key = hapi_product_keys[0].text\n",
    "        print()"
   ]
  },
  {
   "cell_type": "markdown",
   "id": "f73805ad",
   "metadata": {},
   "source": [
    "## Get The Data\n",
    "The following code demonstrates using [hapiclient](https://pypi.org/project/hapiclient/) to get the data from <b>one</b> of the HAPI datasets found above.\n",
    "\n",
    "<b>Note:</b> Due to a TLS root Certificate-Authority (CA) certificate problem with the hapiclient on NASA EUSO (enterprise-managed) MacOS computers, the following code does not work on such computers and is therefore not well tested.  It does work on some other computers."
   ]
  },
  {
   "cell_type": "code",
   "execution_count": 7,
   "id": "300206a5",
   "metadata": {
    "scrolled": true
   },
   "outputs": [
    {
     "name": "stdout",
     "output_type": "stream",
     "text": [
      "HAPI dataset: WI_H3-RTN_MFI@0\n",
      "Example Time range: 2024-10-26T23:59:30+00:00 to 2024-10-27T23:59:30+00:00\n",
      "HAPI parameters:\n",
      "0. Time\n",
      "1. BF1\n",
      "2. BRMSF1\n",
      "3. BRTN\n",
      "4. BRMSRTN\n",
      "select_param = BF1\n"
     ]
    }
   ],
   "source": [
    "HAPI_ERROR_MSG = \\\n",
    "'''HAPIError: This error is likely due to a problem with the hapiclient\n",
    "on certain computers (e.g., NASA EUSO [enterprise-managed] computers).\n",
    "Contact the hapiclient maintainer for an update.'''\n",
    "\n",
    "if hapi_access_url_element is not None:\n",
    "    # TEMPORARY WORKAROUND for cdaweb hapi server problems\n",
    "    # hapi_access_url.url = hapi_access_url.url.replace('cdaweb', 'cdaweb-dev.sci')\n",
    "    try:\n",
    "        print(f'HAPI dataset: {hapi_product_key}')\n",
    "        meta = hapi(hapi_access_url.url, hapi_product_key)\n",
    "        #print(meta)\n",
    "        ds_stop = meta['stopDate']\n",
    "        # change Z for python < 3.11\n",
    "        stop = datetime.fromisoformat(ds_stop.replace('Z', '+00:00'))\n",
    "        start = stop - timedelta(days=1)\n",
    "        print(f'Example Time range: {start.isoformat()} to {stop.isoformat()}')\n",
    "        parameters = meta['parameters']\n",
    "        print('HAPI parameters:')\n",
    "        for i, parameter in enumerate(parameters):\n",
    "            print(f'{i}. {parameter[\"name\"]}')\n",
    "        select_param = parameters[1]['name']\n",
    "        print(f'select_param = {select_param}')\n",
    "        data, meta = hapi(hapi_access_url.url, hapi_product_key, \n",
    "                        select_param, start.isoformat(), stop.isoformat())\n",
    "    except HAPIError as e:\n",
    "        if 'Failed to connect' in str(e):\n",
    "            print(HAPI_ERROR_MSG)\n",
    "        else:\n",
    "            print(e)\n",
    "        data = None\n",
    "        meta = None"
   ]
  },
  {
   "cell_type": "markdown",
   "id": "9d450e7b",
   "metadata": {},
   "source": [
    "## Plot The Data\n",
    "The following code demonstrates using [hapiplot](https://pypi.org/project/hapiplot/) to plot the data."
   ]
  },
  {
   "cell_type": "code",
   "execution_count": 8,
   "id": "82108f61",
   "metadata": {},
   "outputs": [
    {
     "data": {
      "image/png": "[encoded data removed]",
      "text/plain": [
       "<Figure size 1008x432 with 1 Axes>"
      ]
     },
     "metadata": {},
     "output_type": "display_data"
    }
   ],
   "source": [
    "if data is not None:\n",
    "    try:\n",
    "        hapiplot(data, meta)\n",
    "    except Exception as e:\n",
    "        print(hapi_except_msg)\n",
    "else:\n",
    "    print('No data to plot.')"
   ]
  },
  {
   "cell_type": "markdown",
   "id": "6e1882a3",
   "metadata": {},
   "source": [
    "## Additional Documentation\n",
    "View the [hdpws](https://heliophysicsdata.gsfc.nasa.gov/WebServices/py/hdpws/) API documentation for a description of additional features."
   ]
  },
  {
   "cell_type": "code",
   "execution_count": null,
   "id": "cd6afca2",
   "metadata": {},
   "outputs": [],
   "source": []
  }
 ],
 "metadata": {
  "kernelspec": {
   "display_name": "Python 3 (ipykernel)",
   "language": "python",
   "name": "python3"
  },
  "language_info": {
   "codemirror_mode": {
    "name": "ipython",
    "version": 3
   },
   "file_extension": ".py",
   "mimetype": "text/x-python",
   "name": "python",
   "nbconvert_exporter": "python",
   "pygments_lexer": "ipython3",
   "version": "3.9.18"
  }
 },
 "nbformat": 4,
 "nbformat_minor": 5
}
