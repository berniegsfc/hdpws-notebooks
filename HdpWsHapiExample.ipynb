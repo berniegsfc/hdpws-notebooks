{
 "cells": [
  {
   "cell_type": "markdown",
   "id": "c9f853f0",
   "metadata": {},
   "source": [
    "# hdpws HAPI Example Jupyter Notebook\n",
    "![SPASE inside](https://spase-group.org/assets/images/spase-inside.png)\n",
    "This [Jupyter notebook](https://jupyter.org/) demonstrates using the [hdpws](https://pypi.org/project/hdpws/) Python package to find [HAPI](http://hapi-server.org/) accessible data from the [Space Physics Archive Search and Extract](https://spase-group.org/) (SPASE) metadata documents at the [Heliophysics Data Portal](https://heliophysicsdata.gsfc.nasa.gov/) (HDP).  It assumes some familarity with the [SPASE data model](https://spase-group.org/data/index.html).  This notebook contains the following sections:\n",
    "1. [Prerequisites](#Prerequisites)\n",
    "2. [Setup](#Setup)\n",
    "3. [Get MeasurementTypes](#Get-MeasurementTypes)\n",
    "4. [Get ObservedRegions](#Get-ObservedRegions)\n",
    "5. [Get ObservatoryIDs](#Get-ObservatoryIDs)\n",
    "6. [Get NumericalData](#Get-NumericalData)\n",
    "7. [Additional Documentation](#Additional-Documentation)"
   ]
  },
  {
   "cell_type": "markdown",
   "id": "facb7ecc",
   "metadata": {},
   "source": [
    "## Prerequisites\n",
    "Install the prerequisite software from [Python Package Index](https://pypi.org/project/hdpws/) (PyPI) software repository.\n",
    "1. pip install hdpws"
   ]
  },
  {
   "cell_type": "markdown",
   "id": "7a59dd89",
   "metadata": {},
   "source": [
    "## Setup\n",
    "Execute some preliminary code that is necessary before the code that follows."
   ]
  },
  {
   "cell_type": "code",
   "execution_count": 3,
   "id": "13384804",
   "metadata": {},
   "outputs": [],
   "source": [
    "from hdpws.hdpws import HdpWs\n",
    "from hdpws import NAMESPACES as NS\n",
    "from hdpws.resourcetype import ResourceType as rt\n",
    "from hdpws.spase import HapiAccessURL\n",
    "\n",
    "from IPython.core.display import HTML\n",
    "\n",
    "# disable warnings about vspo-dev certificate\n",
    "import urllib3\n",
    "urllib3.disable_warnings(urllib3.exceptions.InsecureRequestWarning)\n",
    "\n",
    "hdp = HdpWs(endpoint='http://ec2-44-212-210-55.compute-1.amazonaws.com/WS/hdp/1/',\n",
    "            disable_ssl_certificate_validation=True)"
   ]
  },
  {
   "cell_type": "markdown",
   "id": "b02e25cb",
   "metadata": {},
   "source": [
    "## Get MeasurementTypes\n",
    "The following code demonstrates how to get the list of available /Spase/MeasurementType values."
   ]
  },
  {
   "cell_type": "code",
   "execution_count": 4,
   "id": "5936c67c",
   "metadata": {},
   "outputs": [
    {
     "name": "stdout",
     "output_type": "stream",
     "text": [
      "HDP MeasurementTypes:\n",
      "    ActivityIndex\n",
      "    Dopplergram\n",
      "    Dust\n",
      "    ElectricField\n",
      "    EnergeticParticles\n",
      "    Ephemeris\n",
      "    ImageIntensity\n",
      "    InstrumentStatus\n",
      "    IonComposition\n",
      "    Irradiance\n",
      "    MagneticField\n",
      "    Magnetogram\n",
      "    NeutralAtomImages\n",
      "    NeutralGas\n",
      "    Profile\n",
      "    Radiance\n",
      "    Spectrum\n",
      "    SPICE\n",
      "    ThermalPlasma\n",
      "    Waves\n",
      "    Waves.Active\n",
      "    Waves.Passive\n"
     ]
    }
   ],
   "source": [
    "result = hdp.get_measurement_types()\n",
    "print('HDP MeasurementTypes:')\n",
    "for value in result['MeasurementType']:\n",
    "    print(f'    {value}')\n"
   ]
  },
  {
   "cell_type": "markdown",
   "id": "da6696f4",
   "metadata": {},
   "source": [
    "## Get ObservedRegions\n",
    "The following code demonstrates how to get the list of available /Spase/ObservedRegion values."
   ]
  },
  {
   "cell_type": "code",
   "execution_count": 5,
   "id": "777fb0a0",
   "metadata": {},
   "outputs": [
    {
     "name": "stdout",
     "output_type": "stream",
     "text": [
      "122 HDP Observed Regions:\n",
      "    Asteroid\n",
      "    Comet\n",
      "    Earth\n",
      "    Earth.Magnetosheath\n",
      "    Earth.Magnetosphere\n",
      "    Earth.Magnetosphere.Magnetotail\n",
      "    Earth.Magnetosphere.Main\n",
      "    Earth.Magnetosphere.Plasmasphere\n",
      "    Earth.Magnetosphere.Polar\n",
      "    ...\n"
     ]
    }
   ],
   "source": [
    "result = hdp.get_observed_regions()\n",
    "observed_regions = result['ObservedRegion']\n",
    "print(f'{len(observed_regions)} HDP Observed Regions:')\n",
    "for value in observed_regions[0:9]:\n",
    "    print(f'    {value}')\n",
    "print('    ...')"
   ]
  },
  {
   "cell_type": "markdown",
   "id": "eb608ab5",
   "metadata": {},
   "source": [
    "## Get ObservatoryIDs\n",
    "The following code demonstrates how to get the list of available /Spase/Observatory/ResourceID values."
   ]
  },
  {
   "cell_type": "code",
   "execution_count": 6,
   "id": "0f9632cb",
   "metadata": {},
   "outputs": [
    {
     "name": "stdout",
     "output_type": "stream",
     "text": [
      "2003 HDP ObservatoryIDs:\n",
      "    spase://SMWG/Observatory/JSPO\n",
      "    spase://SMWG/Observatory/MEASURE/Darksky.Observatory\n",
      "    spase://SMWG/Observatory/THEMIS/Ground/UCLA-EPO/BMLS\n",
      "    spase://SMWG/Observatory/THEMIS/Ground/UCLA-GBO/GBAY\n",
      "    spase://SMWG/Observatory/THEMIS/E\n",
      "    spase://SMWG/Observatory/Ground/Karmoy\n",
      "    spase://SMWG/Observatory/Ground/Val.Joyeux\n",
      "    spase://SMWG/Observatory/Ground/Pangnirtung\n",
      "    spase://SMWG/Observatory/Ground/Kevo\n",
      "    ...\n"
     ]
    }
   ],
   "source": [
    "result = hdp.get_observatory_ids()\n",
    "observatory_ids = result['ObservatoryID']\n",
    "print(f'{len(observatory_ids)} HDP ObservatoryIDs:')\n",
    "for value in observatory_ids[0:9]:\n",
    "    print(f'    {value}')\n",
    "print('    ...')"
   ]
  },
  {
   "cell_type": "markdown",
   "id": "f126da36",
   "metadata": {},
   "source": [
    "## Get NumericalData\n",
    "The following code demonstrates how to find HAPI accessible SPASE NumericalData documents matching the specified search criteria.   "
   ]
  },
  {
   "cell_type": "code",
   "execution_count": 7,
   "id": "d010721f",
   "metadata": {},
   "outputs": [
    {
     "name": "stdout",
     "output_type": "stream",
     "text": [
      "Name:  Wind Spacecraft Homepage\n",
      "ResourceID:  spase://NASA/NumericalData/Wind/MFI/PT03S\n",
      "Description:  Wind MFI composite data in GSE and GSM coordinates. The file ...\n"
     ]
    },
    {
     "data": {
      "text/html": [
       "<a href=\"http://ec2-44-212-210-55.compute-1.amazonaws.com/WS/hdp/1/Spase?ResourceID=spase://NASA/NumericalData/Wind/MFI/PT03S\" target=\"_blank\">HTML representation of SPASE</a>"
      ],
      "text/plain": [
       "<IPython.core.display.HTML object>"
      ]
     },
     "metadata": {},
     "output_type": "display_data"
    },
    {
     "data": {
      "text/html": [
       "<a href=https://cdaweb.gsfc.nasa.gov/registry/hdp/hapi/hapiHtml.html#url=https://cdaweb.gsfc.nasa.gov/hapi&id=WI_H0_MFI@0,WI_H0_MFI@1,WI_H0_MFI@2 target=\"\"_blank\"\">HAPI access information</a>"
      ],
      "text/plain": [
       "<IPython.core.display.HTML object>"
      ]
     },
     "metadata": {},
     "output_type": "display_data"
    }
   ],
   "source": [
    "query = {\n",
    "    'InstrumentID': 'spase://SMWG/Instrument/Wind/MFI',\n",
    "    'Cadence': '=PT3S',\n",
    "    'ObservedRegion': 'Heliosphere.NearEarth',\n",
    "    'MeasurementType': 'MagneticField',\n",
    "    'AccessRights': 'Open',\n",
    "    'Style': 'HAPI'\n",
    "}       \n",
    "types = [rt.NUMERICAL_DATA]\n",
    "time_range = ['2022-01-01', '2022-01-02']\n",
    "result = hdp.get_spase_data(types, query, time_range)\n",
    "if result['HttpStatus'] == 200:\n",
    "    for spase in result['Result'].findall('.//Spase',\n",
    "                                         namespaces=NS):\n",
    "        id = spase.find('.//ResourceID', namespaces=NS)\n",
    "        name = spase.find('.//Name', namespaces=NS)\n",
    "        description = spase.find('.//Description',\n",
    "                                 namespaces=NS)\n",
    "        print('Name: ', name.text)\n",
    "        print('ResourceID: ', id.text)\n",
    "        print('Description: ', description.text[:60], '...')\n",
    "        display(HTML('<a href=\"' + hdp.get_spase_url(id.text) +\n",
    "                     '\" target=\"_blank\">' + \n",
    "                    'HTML representation of SPASE</a>'))\n",
    "        hapi_access_url_element = \\\n",
    "            spase.find('.//AccessURL[Style=\"HAPI\"]', namespaces=NS)\n",
    "        if hapi_access_url_element is not None:\n",
    "            hapi_access_url = HapiAccessURL(hapi_access_url_element)\n",
    "            hapi_display_url = hapi_access_url.get_html_url()\n",
    "            hapi_html_link = \"<a href=\"\"\" + \\\n",
    "                hapi_access_url.get_html_url() + \\\n",
    "                \"\"\" target=\"\"_blank\"\">HAPI access information</a>\"\"\"\n",
    "            display(HTML(hapi_html_link))"
   ]
  },
  {
   "cell_type": "markdown",
   "id": "95184ddd",
   "metadata": {},
   "source": [
    "## Additional Documentation\n",
    "View the [hdpws](https://heliophysicsdata.gsfc.nasa.gov/WebServices/py/hdpws/) and [cdasws](https://cdaweb.gsfc.nasa.gov/WebServices/REST/py/cdasws/) API documentation for a description of additional features."
   ]
  },
  {
   "cell_type": "code",
   "execution_count": null,
   "id": "80111da4",
   "metadata": {},
   "outputs": [],
   "source": []
  }
 ],
 "metadata": {
  "kernelspec": {
   "display_name": "Python 3 (ipykernel)",
   "language": "python",
   "name": "python3"
  },
  "language_info": {
   "codemirror_mode": {
    "name": "ipython",
    "version": 3
   },
   "file_extension": ".py",
   "mimetype": "text/x-python",
   "name": "python",
   "nbconvert_exporter": "python",
   "pygments_lexer": "ipython3",
   "version": "3.10.5"
  }
 },
 "nbformat": 4,
 "nbformat_minor": 5
}
