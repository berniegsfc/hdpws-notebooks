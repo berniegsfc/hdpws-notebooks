{
 "cells": [
  {
   "cell_type": "markdown",
   "id": "c9f853f0",
   "metadata": {},
   "source": [
    "# hdpws and cdasws Example Jupyter Notebook\n",
    "![SPASE inside](https://spase-group.org/assets/images/spase-inside.png)\n",
    "This [Jupyter notebook](https://jupyter.org/) demonstrates using the [hdpws](https://pypi.org/project/hdpws/) Python package to access [Space Physics Archive Search and Extract](https://spase-group.org/) (SPASE) metadata documents from the [Heliophysics Data Portal](https://heliophysicsdata.gsfc.nasa.gov/) (HDP).  Additionally, it utilizes [cdasws](https://pypi.org/project/cdasws/) to retrieve the data described by the SPASE metadata.  It assumes some familarity with the [SPASE data model](https://spase-group.org/data/index.html).  This notebook contains the following sections:\n",
    "1. [Prerequisites](#Prerequisites)\n",
    "2. [Setup](#Setup)\n",
    "3. [Discover the Software used to access data](#Discover-the-Software-used-to-access-data)\n",
    "4. [Get MeasurementTypes](#Get-MeasurementTypes)\n",
    "5. [Get ObservedRegions](#Get-ObservedRegions)\n",
    "6. [Get ObservatoryIDs](#Get-ObservatoryIDs)\n",
    "7. [Get NumericalData](#Get-NumericalData)\n",
    "8. [Additional Documentation](#Additional-Documentation)"
   ]
  },
  {
   "cell_type": "markdown",
   "id": "facb7ecc",
   "metadata": {},
   "source": [
    "## Prerequisites\n",
    "Install the prerequisite software from [Python Package Index](https://pypi.org/project/hdpws/) (PyPI) software repository.\n",
    "1. pip install hdpws\n",
    "2. pip install xarray\n",
    "3. pip install cdflib\n",
    "4. pip install cdasws"
   ]
  },
  {
   "cell_type": "markdown",
   "id": "7a59dd89",
   "metadata": {},
   "source": [
    "## Setup\n",
    "Execute some preliminary code that is necessary before the code that follows."
   ]
  },
  {
   "cell_type": "code",
   "execution_count": 20,
   "id": "13384804",
   "metadata": {},
   "outputs": [],
   "source": [
    "from datetime import datetime\n",
    "\n",
    "from hdpws.hdpws import HdpWs\n",
    "from hdpws import NAMESPACES as NS\n",
    "from hdpws.resourcetype import ResourceType as rt\n",
    "from hdpws.spase import AccessURL\n",
    "\n",
    "from cdasws import CdasWs\n",
    "from cdasws.datarepresentation import DataRepresentation as dr\n",
    "\n",
    "from IPython.core.display import HTML\n",
    "\n",
    "\n",
    "hdp = HdpWs()\n",
    "cdas = CdasWs()\n",
    "# limit display of long lists\n",
    "DISP_LIMIT = 5\n",
    "\n",
    "today = datetime.now().strftime('%Y-%B-%d')\n",
    "\n",
    "def display_link(\n",
    "    url: str,\n",
    "    text: str) -> None:\n",
    "    display(HTML(f'<a href=\"{url}\" target=\"_blank\">{text}</a>'))"
   ]
  },
  {
   "cell_type": "markdown",
   "id": "fb44f175-7736-4bee-a1f5-2e8eded3a093",
   "metadata": {},
   "source": [
    "## Discover the Software used to access data\n",
    "\n",
    "The following code demonstrates discovering the software we will use below to get the data we want.\n"
   ]
  },
  {
   "cell_type": "code",
   "execution_count": 19,
   "id": "2298f8c0-088a-4137-b526-6e5b240858ec",
   "metadata": {},
   "outputs": [
    {
     "name": "stdout",
     "output_type": "stream",
     "text": [
      "Software search results:\n"
     ]
    },
    {
     "data": {
      "text/html": [
       "<a href=\"https://heliophysicsdata.gsfc.nasa.gov/WS/hdp/1/Spase?ResourceID=spase://NASA/Software/SPDF/cdasws/python\" target=\"_blank\">Coordinated Data Analysis System Web Services Client Library</a>"
      ],
      "text/plain": [
       "<IPython.core.display.HTML object>"
      ]
     },
     "metadata": {},
     "output_type": "display_data"
    }
   ],
   "source": [
    "query = {\n",
    "    'CodeLanguage': 'Python',\n",
    "    'Description': 'CDAS'\n",
    "}\n",
    "result = hdp.get_spase_software(query)\n",
    "if result['HttpStatus'] == 200:\n",
    "    print(f'Software search results:')\n",
    "    for software in result['Result'].findall('.//Software', namespaces=NS):\n",
    "        resource_id = software.findall('.//ResourceID', namespaces=NS)[0].text\n",
    "        resource_name = software.findall('.//ResourceName', namespaces=NS)[0].text\n",
    "        display_link(f'{hdp.endpoint}Spase?ResourceID={resource_id}', resource_name)\n",
    "else:\n",
    "    print(result['HttpStatus'])"
   ]
  },
  {
   "cell_type": "markdown",
   "id": "b02e25cb",
   "metadata": {},
   "source": [
    "## Get MeasurementTypes\n",
    "The following code demonstrates how to get the list of available /Spase/MeasurementType values."
   ]
  },
  {
   "cell_type": "code",
   "execution_count": 3,
   "id": "5936c67c",
   "metadata": {},
   "outputs": [
    {
     "name": "stdout",
     "output_type": "stream",
     "text": [
      "HDP MeasurementTypes:\n",
      "0. ActivityIndex\n",
      "1. Dopplergram\n",
      "2. Dust\n",
      "3. ElectricField\n",
      "4. EnergeticParticles\n",
      "5. Ephemeris\n",
      "6. ImageIntensity\n",
      "7. InstrumentStatus\n",
      "8. IonComposition\n",
      "9. Irradiance\n",
      "10. MagneticField\n",
      "11. Magnetogram\n",
      "12. NeutralAtomImages\n",
      "13. NeutralGas\n",
      "14. Profile\n",
      "15. Radiance\n",
      "16. Spectrum\n",
      "17. SPICE\n",
      "18. ThermalPlasma\n",
      "19. Waves\n",
      "20. Waves.Active\n",
      "21. Waves.Passive\n"
     ]
    }
   ],
   "source": [
    "result = hdp.get_measurement_types()\n",
    "print('HDP MeasurementTypes:')\n",
    "for i, value in enumerate(result['MeasurementType']):\n",
    "    print(f'{i}. {value}')"
   ]
  },
  {
   "cell_type": "markdown",
   "id": "da6696f4",
   "metadata": {},
   "source": [
    "## Get ObservedRegions\n",
    "The following code demonstrates how to get the list of available /Spase/ObservedRegion values."
   ]
  },
  {
   "cell_type": "code",
   "execution_count": 4,
   "id": "777fb0a0",
   "metadata": {},
   "outputs": [
    {
     "name": "stdout",
     "output_type": "stream",
     "text": [
      "HDP Observed Regions:\n",
      "0. Asteroid\n",
      "1. Comet\n",
      "2. Comet.1PHalley\n",
      "3. Comet.26PGriggSkjellerup\n",
      "4. Comet.67PChuryumovGerasimenko\n",
      "5. Earth\n",
      "...\n",
      "124. Venus.Magnetosphere.RingCurrent\n"
     ]
    }
   ],
   "source": [
    "result = hdp.get_observed_regions()\n",
    "observed_regions = result['ObservedRegion']\n",
    "print(f'HDP Observed Regions:')\n",
    "for i, value in enumerate(observed_regions):\n",
    "    print(f'{i}. {value}')\n",
    "    if i == DISP_LIMIT:\n",
    "        print('...')\n",
    "        print(f'{len(observed_regions) - 1}. {observed_regions[-1]}')\n",
    "        break"
   ]
  },
  {
   "cell_type": "markdown",
   "id": "eb608ab5",
   "metadata": {},
   "source": [
    "## Get ObservatoryIDs\n",
    "The following code demonstrates how to get the list of available /Spase/Observatory/ResourceID values."
   ]
  },
  {
   "cell_type": "code",
   "execution_count": 5,
   "id": "0f9632cb",
   "metadata": {},
   "outputs": [
    {
     "name": "stdout",
     "output_type": "stream",
     "text": [
      "HDP ObservatoryIDs:\n",
      "0. spase://SMWG/Observatory/AE-D\n",
      "1. spase://SMWG/Observatory/Helios1\n",
      "2. spase://SMWG/Observatory/DynamicsExplorer1\n",
      "3. spase://SMWG/Observatory/SolarOrbiter\n",
      "4. spase://SMWG/Observatory/IMP8\n",
      "5. spase://SMWG/Observatory/MarsExpress\n",
      "...\n",
      "4043. spase://SMWG/Observatory/UNH\n"
     ]
    }
   ],
   "source": [
    "result = hdp.get_observatory_ids()\n",
    "observatory_ids = result['ObservatoryID']\n",
    "print(f'HDP ObservatoryIDs:')\n",
    "for i, value in enumerate(observatory_ids):\n",
    "    print(f'{i}. {value}')\n",
    "    if i == DISP_LIMIT:\n",
    "        print('...')\n",
    "        print(f'{len(observatory_ids) - 1}. {observatory_ids[-1]}')\n",
    "        break"
   ]
  },
  {
   "cell_type": "markdown",
   "id": "f126da36",
   "metadata": {},
   "source": [
    "## Get NumericalData\n",
    "The following code demonstrates how to find SPASE NumericalData documents matching the specified search criteria.   Additionally, it utilizes [cdasws](https://pypi.org/project/cdasws/) to retrieve the data described by the SPASE metadata when the data is available from CDAWeb."
   ]
  },
  {
   "cell_type": "code",
   "execution_count": 22,
   "id": "d010721f",
   "metadata": {},
   "outputs": [
    {
     "name": "stdout",
     "output_type": "stream",
     "text": [
      "ResourceID: spase://NASA/NumericalData/ACE/MAG/L2/PT4M\n",
      "Description: This Data Product contains Measurements from the ACE Magneti...\n"
     ]
    },
    {
     "data": {
      "text/html": [
       "<a href=\"https://heliophysicsdata.gsfc.nasa.gov/WS/hdp/1/Spase?ResourceID=spase://NASA/NumericalData/ACE/MAG/L2/PT4M\" target=\"_blank\">HTML representation of SPASE</a>"
      ],
      "text/plain": [
       "<IPython.core.display.HTML object>"
      ]
     },
     "metadata": {},
     "output_type": "display_data"
    },
    {
     "data": {
      "text/html": [
       "<a href=\"https://cdaweb.gsfc.nasa.gov/WS/cdasr/1/dataviews/sp_phys/datasets/AC_H1_MFI/clientLibraryExample/\" target=\"_blank\">Example data access code</a>"
      ],
      "text/plain": [
       "<IPython.core.display.HTML object>"
      ]
     },
     "metadata": {},
     "output_type": "display_data"
    },
    {
     "data": {
      "text/html": [
       "<b>Data Citation</b>: Smith, C. W., &amp; Ness, N. F. (2022). <i>ACE Magnetic Field (MAG) Geocentric Solar Ecliptic, GSE, and Geocentric Solar Magnetospheric, GSM, Coordinates, Level 2 (H1), 4 min Data</i> [Data set]. NASA Space Physics Data Facility. https://doi.org/10.48322/BRF1-G493.  Accessed on 2024-November-15."
      ],
      "text/plain": [
       "<IPython.core.display.HTML object>"
      ]
     },
     "metadata": {},
     "output_type": "display_data"
    },
    {
     "name": "stdout",
     "output_type": "stream",
     "text": [
      "Retrieving data...\n",
      "<xarray.Dataset> Size: 2kB\n",
      "Dimensions:     (Epoch: 31, cartesian: 3, dim0: 3)\n",
      "Coordinates:\n",
      "  * Epoch       (Epoch) datetime64[ns] 248B 2024-06-12T21:56:00 ... 2024-06-1...\n",
      "  * cartesian   (cartesian) <U11 132B 'x_component' 'y_component' 'z_component'\n",
      "    metavar0    (cartesian) <U6 72B 'Bx GSE' 'By GSE' 'Bz GSE'\n",
      "    metavar2    (cartesian) <U9 108B 'ACE X-GSE' 'ACE Y-GSE' 'ACE Z-GSE'\n",
      "    metavar3    (cartesian) <U9 108B 'ACE X-GSM' 'ACE Y-GSM' 'ACE Z-GSM'\n",
      "Dimensions without coordinates: dim0\n",
      "Data variables:\n",
      "    Magnitude   (Epoch) float32 124B 2.381 2.335 2.55 ... 3.996 3.977 3.921\n",
      "    BGSEc       (Epoch, cartesian) float32 372B 0.476 0.737 ... 2.145 0.352\n",
      "    BGSM        (Epoch, dim0) float32 372B 0.476 1.196 -1.9 ... 3.26 2.018 0.808\n",
      "    SC_pos_GSE  (Epoch, cartesian) float32 372B 1.48e+06 2.496e+05 ... 1.04e+05\n",
      "    SC_pos_GSM  (Epoch, cartesian) float32 372B 1.48e+06 2.197e+05 ... 1.556e+05\n",
      "    metavar1    (dim0) <U8 96B 'Bx (GSM)' 'By (GSM)' 'Bz (GSM)'\n",
      "Attributes: (12/30)\n",
      "    TITLE:                       ['ACE> Magnetometer Parameters']\n",
      "    Project:                     ['ISTP>International Solar-Terrestrial Physi...\n",
      "    Discipline:                  ['Space Physics>Interplanetary Studies']\n",
      "    Source_name:                 ['AC>Advanced Composition Explorer']\n",
      "    Data_type:                   ['H1>4-Min Level 2 Data']\n",
      "    Descriptor:                  ['MAG>ACE Magnetic Field Instrument']\n",
      "    ...                          ...\n",
      "    Acknowledgement:             ['Please acknowledge the Principal', 'Invest...\n",
      "    Rules_of_use:                ['See the rules of use available from the AC...\n",
      "    Alt_logical_source:          ['ACE_MAG_Solar-Wind-Magnetic-Field-Level2-H...\n",
      "    spase_DatasetResourceID:     ['spase://NASA/NumericalData/ACE/MAG/L2/PT4M']\n",
      "    DOI:                         ['https://doi.org/10.48322/brf1-g493']\n",
      "    CDAWEB_PARENTS:              ['ac_h1_mfi_00000000_v01', 'ac_h1_mfi_202406...\n"
     ]
    }
   ],
   "source": [
    "query = {\n",
    "    'InstrumentID': 'spase://SMWG/Instrument/ACE/MAG',\n",
    "    'Cadence': '=PT4M',\n",
    "    'ObservedRegion': 'Heliosphere.NearEarth',\n",
    "    'MeasurementType': 'MagneticField',\n",
    "    'AccessRights': 'Open',\n",
    "    'Style': 'WebService'\n",
    "}       \n",
    "types = [rt.NUMERICAL_DATA]\n",
    "time_range = ['2022-01-01', '2022-01-02']\n",
    "result = hdp.get_spase_data(types, query, time_range)\n",
    "if result['HttpStatus'] == 200:\n",
    "    for spase in result['Result'].findall('.//Spase', namespaces=NS):\n",
    "        id = spase.find('.//ResourceID', namespaces=NS)\n",
    "        name = spase.find('.//Name', namespaces=NS)\n",
    "        description = spase.find('.//Description', namespaces=NS)\n",
    "        #print('Name: ', name.text)\n",
    "        print(f'ResourceID: {id.text}')\n",
    "        print(f'Description: {description.text[:60]}...')\n",
    "        display_link(hdp.get_spase_url(id.text), 'HTML representation of SPASE')\n",
    "        ws_access_url_element = \\\n",
    "            spase.find('.//AccessURL[Style=\"WebService\"]', namespaces=NS)\n",
    "        if ws_access_url_element is not None:\n",
    "            ws_access_url = AccessURL(ws_access_url_element)\n",
    "            ws_name = ws_access_url.name\n",
    "            ws_product_key = ws_access_url.product_key[0]\n",
    "            if \"CDAWeb\" in ws_name:\n",
    "                display_link(ws_access_url.url, 'Example data access code')\n",
    "                description = cdas.get_datasets(id = ws_product_key)\n",
    "                doi = description[0]['Doi']\n",
    "                display(HTML(f'<b>Data Citation</b>: {cdas.get_citation(doi)}.  Accessed on {today}.'))\n",
    "                print('Retrieving data...')\n",
    "                example_interval = cdas.get_example_time_interval(ws_product_key)\n",
    "                var_names = cdas.get_variable_names(ws_product_key)\n",
    "                data = cdas.get_data(ws_product_key, var_names,\n",
    "                                     example_interval,\n",
    "                                     dataRepresentation = dr.XARRAY)[1]\n",
    "                print(data)"
   ]
  },
  {
   "cell_type": "markdown",
   "id": "95184ddd",
   "metadata": {},
   "source": [
    "## Additional Documentation\n",
    "View the [hdpws](https://heliophysicsdata.gsfc.nasa.gov/WebServices/py/hdpws/) and [cdasws](https://cdaweb.gsfc.nasa.gov/WebServices/REST/py/cdasws/) API documentation for a description of additional features."
   ]
  },
  {
   "cell_type": "code",
   "execution_count": null,
   "id": "80111da4",
   "metadata": {},
   "outputs": [],
   "source": []
  }
 ],
 "metadata": {
  "kernelspec": {
   "display_name": "Python 3 (ipykernel)",
   "language": "python",
   "name": "python3"
  },
  "language_info": {
   "codemirror_mode": {
    "name": "ipython",
    "version": 3
   },
   "file_extension": ".py",
   "mimetype": "text/x-python",
   "name": "python",
   "nbconvert_exporter": "python",
   "pygments_lexer": "ipython3",
   "version": "3.9.18"
  }
 },
 "nbformat": 4,
 "nbformat_minor": 5
}
