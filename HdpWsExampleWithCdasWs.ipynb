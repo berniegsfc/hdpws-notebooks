{
 "cells": [
  {
   "cell_type": "markdown",
   "id": "c9f853f0",
   "metadata": {},
   "source": [
    "# hdpws and cdasws Example Jupyter Notebook\n",
    "![SPASE inside](https://spase-group.org/assets/images/spase-inside.png)\n",
    "This [Jupyter notebook](https://jupyter.org/) demonstrates using the [hdpws](https://pypi.org/project/hdpws/) Python package to access [Space Physics Archive Search and Extract](https://spase-group.org/) (SPASE) metadata documents from the [Heliophysics Data Portal](https://heliophysicsdata.gsfc.nasa.gov/) (HDP).  Additionally, it utilizes [cdasws](https://pypi.org/project/cdasws/) to retrieve the data described by the SPASE metadata.  It assumes some familarity with the [SPASE data model](https://spase-group.org/data/index.html).  This notebook contains the following sections:\n",
    "1. [Prerequisites](#Prerequisites)\n",
    "2. [Setup](#Setup)\n",
    "3. [Get MeasurementTypes](#Get-MeasurementTypes)\n",
    "4. [Get ObservedRegions](#Get-ObservedRegions)\n",
    "5. [Get ObservatoryIDs](#Get-ObservatoryIDs)\n",
    "6. [Get NumericalData](#Get-NumericalData)\n",
    "7. [Additional Documentation](#Additional-Documentation)"
   ]
  },
  {
   "cell_type": "markdown",
   "id": "facb7ecc",
   "metadata": {},
   "source": [
    "## Prerequisites\n",
    "Install the prerequisite software from [Python Package Index](https://pypi.org/project/hdpws/) (PyPI) software repository.\n",
    "1. pip install hdpws\n",
    "2. pip install xarray\n",
    "3. pip install cdflib\n",
    "4. pip install cdasws"
   ]
  },
  {
   "cell_type": "markdown",
   "id": "7a59dd89",
   "metadata": {},
   "source": [
    "## Setup\n",
    "Execute some preliminary code that is necessary before the code that follows."
   ]
  },
  {
   "cell_type": "code",
   "execution_count": 1,
   "id": "13384804",
   "metadata": {},
   "outputs": [],
   "source": [
    "from hdpws.hdpws import HdpWs\n",
    "from hdpws import NAMESPACES as NS\n",
    "from hdpws.resourcetype import ResourceType as rt\n",
    "from hdpws.spase import AccessURL\n",
    "\n",
    "from cdasws import CdasWs\n",
    "from cdasws.datarepresentation import DataRepresentation as dr\n",
    "\n",
    "from IPython.core.display import HTML\n",
    "\n",
    "\n",
    "hdp = HdpWs()\n",
    "cdas = CdasWs()"
   ]
  },
  {
   "cell_type": "markdown",
   "id": "b02e25cb",
   "metadata": {},
   "source": [
    "## Get MeasurementTypes\n",
    "The following code demonstrates how to get the list of available /Spase/MeasurementType values."
   ]
  },
  {
   "cell_type": "code",
   "execution_count": 2,
   "id": "5936c67c",
   "metadata": {},
   "outputs": [
    {
     "name": "stdout",
     "output_type": "stream",
     "text": [
      "HDP MeasurementTypes:\n",
      "    ActivityIndex\n",
      "    Dopplergram\n",
      "    Dust\n",
      "    ElectricField\n",
      "    EnergeticParticles\n",
      "    Ephemeris\n",
      "    ImageIntensity\n",
      "    InstrumentStatus\n",
      "    IonComposition\n",
      "    Irradiance\n",
      "    MagneticField\n",
      "    Magnetogram\n",
      "    NeutralAtomImages\n",
      "    NeutralGas\n",
      "    Profile\n",
      "    Radiance\n",
      "    Spectrum\n",
      "    SPICE\n",
      "    ThermalPlasma\n",
      "    Waves\n",
      "    Waves.Active\n",
      "    Waves.Passive\n"
     ]
    }
   ],
   "source": [
    "result = hdp.get_measurement_types()\n",
    "print('HDP MeasurementTypes:')\n",
    "for value in result['MeasurementType']:\n",
    "    print(f'    {value}')\n"
   ]
  },
  {
   "cell_type": "markdown",
   "id": "da6696f4",
   "metadata": {},
   "source": [
    "## Get ObservedRegions\n",
    "The following code demonstrates how to get the list of available /Spase/ObservedRegion values."
   ]
  },
  {
   "cell_type": "code",
   "execution_count": 3,
   "id": "777fb0a0",
   "metadata": {},
   "outputs": [
    {
     "name": "stdout",
     "output_type": "stream",
     "text": [
      "122 HDP Observed Regions:\n",
      "    Asteroid\n",
      "    Comet\n",
      "    Earth\n",
      "    Earth.Magnetosheath\n",
      "    Earth.Magnetosphere\n",
      "    Earth.Magnetosphere.Magnetotail\n",
      "    Earth.Magnetosphere.Main\n",
      "    Earth.Magnetosphere.Plasmasphere\n",
      "    Earth.Magnetosphere.Polar\n",
      "    ...\n"
     ]
    }
   ],
   "source": [
    "result = hdp.get_observed_regions()\n",
    "observed_regions = result['ObservedRegion']\n",
    "print(f'{len(observed_regions)} HDP Observed Regions:')\n",
    "for value in observed_regions[0:9]:\n",
    "    print(f'    {value}')\n",
    "print('    ...')"
   ]
  },
  {
   "cell_type": "markdown",
   "id": "eb608ab5",
   "metadata": {},
   "source": [
    "## Get ObservatoryIDs\n",
    "The following code demonstrates how to get the list of available /Spase/Observatory/ResourceID values."
   ]
  },
  {
   "cell_type": "code",
   "execution_count": 4,
   "id": "0f9632cb",
   "metadata": {},
   "outputs": [
    {
     "name": "stdout",
     "output_type": "stream",
     "text": [
      "2936 HDP ObservatoryIDs:\n",
      "    spase://SMWG/Observatory/AE-D\n",
      "    spase://SMWG/Observatory/Helios1\n",
      "    spase://SMWG/Observatory/DynamicsExplorer1\n",
      "    spase://SMWG/Observatory/SolarOrbiter\n",
      "    spase://SMWG/Observatory/IMP8\n",
      "    spase://SMWG/Observatory/MarsExpress\n",
      "    spase://SMWG/Observatory/GIRO\n",
      "    spase://SMWG/Observatory/Interball-Tail\n",
      "    spase://SMWG/Observatory/IRIS\n",
      "    ...\n"
     ]
    }
   ],
   "source": [
    "result = hdp.get_observatory_ids()\n",
    "observatory_ids = result['ObservatoryID']\n",
    "print(f'{len(observatory_ids)} HDP ObservatoryIDs:')\n",
    "for value in observatory_ids[0:9]:\n",
    "    print(f'    {value}')\n",
    "print('    ...')"
   ]
  },
  {
   "cell_type": "markdown",
   "id": "f126da36",
   "metadata": {},
   "source": [
    "## Get NumericalData\n",
    "The following code demonstrates how to find SPASE NumericalData documents matching the specified search criteria.   Additionally, it utilizes [cdasws](https://pypi.org/project/cdasws/) to retrieve the data described by the SPASE metadata when the data is available from CDAWeb."
   ]
  },
  {
   "cell_type": "code",
   "execution_count": 5,
   "id": "d010721f",
   "metadata": {},
   "outputs": [
    {
     "name": "stdout",
     "output_type": "stream",
     "text": [
      "ResourceID:  spase://NASA/NumericalData/ACE/MAG/L2/PT4M\n",
      "Description:  This Data Product contains Measurements from the ACE Magneti ...\n"
     ]
    },
    {
     "data": {
      "text/html": [
       "<a href=\"https://heliophysicsdata.gsfc.nasa.gov/WS/hdp/1/Spase?ResourceID=spase://NASA/NumericalData/ACE/MAG/L2/PT4M\" target=\"_blank\">HTML representation of SPASE</a>"
      ],
      "text/plain": [
       "<IPython.core.display.HTML object>"
      ]
     },
     "metadata": {},
     "output_type": "display_data"
    },
    {
     "data": {
      "text/html": [
       "<a href=\"https://cdaweb.gsfc.nasa.gov/WS/cdasr/1/dataviews/sp_phys/datasets/AC_H1_MFI/clientLibraryExample/\" target=\"_blank\">Example data access code</a>"
      ],
      "text/plain": [
       "<IPython.core.display.HTML object>"
      ]
     },
     "metadata": {},
     "output_type": "display_data"
    },
    {
     "name": "stdout",
     "output_type": "stream",
     "text": [
      "Retrieving data...\n",
      "<xarray.Dataset>\n",
      "Dimensions:     (Epoch: 31, cartesian: 3, dim0: 3)\n",
      "Coordinates:\n",
      "  * Epoch       (Epoch) datetime64[ns] 2023-05-04T21:56:00 ... 2023-05-04T23:...\n",
      "  * cartesian   (cartesian) <U11 'x_component' 'y_component' 'z_component'\n",
      "    metavar0    (cartesian) <U6 'Bx GSE' 'By GSE' 'Bz GSE'\n",
      "    metavar2    (cartesian) <U9 'ACE X-GSE' 'ACE Y-GSE' 'ACE Z-GSE'\n",
      "    metavar3    (cartesian) <U9 'ACE X-GSM' 'ACE Y-GSM' 'ACE Z-GSM'\n",
      "Dimensions without coordinates: dim0\n",
      "Data variables:\n",
      "    Magnitude   (Epoch) float32 4.375 4.69 4.651 4.473 ... 3.793 3.803 3.768\n",
      "    BGSEc       (Epoch, cartesian) float32 -0.632 -4.319 -0.16 ... -0.463 -1.864\n",
      "    BGSM        (Epoch, dim0) float32 -0.632 -3.788 -2.082 ... 0.408 -1.877\n",
      "    SC_pos_GSE  (Epoch, cartesian) float32 1.433e+06 -1.636e+05 ... 1.128e+05\n",
      "    SC_pos_GSM  (Epoch, cartesian) float32 1.433e+06 -1.967e+05 ... 2.913e+04\n",
      "    metavar1    (dim0) <U8 'Bx (GSM)' 'By (GSM)' 'Bz (GSM)'\n",
      "Attributes: (12/29)\n",
      "    TITLE:                       ['ACE> Magnetometer Parameters']\n",
      "    Project:                     ['ISTP>International Solar-Terrestrial Physi...\n",
      "    Discipline:                  ['Space Physics>Interplanetary Studies']\n",
      "    Source_name:                 ['AC>Advanced Composition Explorer']\n",
      "    Data_type:                   ['H1>4-Min Level 2 Data']\n",
      "    Descriptor:                  ['MAG>ACE Magnetic Field Instrument']\n",
      "    ...                          ...\n",
      "    WEB_SITE:                    ['http://www.srl.caltech.edu/ACE/']\n",
      "    ACKNOWLEDGEMENT:             ['Please acknowledge the Principal', 'Please...\n",
      "    RULES_OF_USE:                ['See the rules of use available from the AC...\n",
      "    ALT_LOGICAL_SOURCE:          ['ACE_MAG_Solar-Wind-Magnetic-Field-Level2-H...\n",
      "    SPASE_DATASETRESOURCEID:     ['spase://NASA/NumericalData/ACE/MAG/L2/PT4M']\n",
      "    CDAWEB_PARENTS:              ['ac_h1_mfi_00000000_v01', 'ac_h1_mfi_000000...\n"
     ]
    },
    {
     "name": "stderr",
     "output_type": "stream",
     "text": [
      "/Users/btharris/opt/python/3/jupyter/lib/python3.10/site-packages/cdflib/xarray/cdf_to_xarray.py:619: UserWarning: Converting non-nanosecond precision datetime values to nanosecond precision. This behavior can eventually be relaxed in xarray, as it is an artifact from pandas which is now beginning to support non-nanosecond precision values. This warning is caused by passing non-nanosecond np.datetime64 or np.timedelta64 values to the DataArray or Variable constructor; it can be silenced by converting the values to nanosecond precision ahead of time.\n",
      "  created_vars[var_name] = xr.Variable(var_dims, var_data, attrs=var_atts)  # type: ignore[no-untyped-call]\n"
     ]
    }
   ],
   "source": [
    "query = {\n",
    "    'InstrumentID': 'spase://SMWG/Instrument/ACE/MAG',\n",
    "    'Cadence': '=PT4M',\n",
    "    'ObservedRegion': 'Heliosphere.NearEarth',\n",
    "    'MeasurementType': 'MagneticField',\n",
    "    'AccessRights': 'Open',\n",
    "    'Style': 'WebService'\n",
    "}       \n",
    "types = [rt.NUMERICAL_DATA]\n",
    "time_range = ['2022-01-01', '2022-01-02']\n",
    "result = hdp.get_spase_data(types, query, time_range)\n",
    "if result['HttpStatus'] == 200:\n",
    "    for spase in result['Result'].findall('.//Spase', namespaces=NS):\n",
    "        id = spase.find('.//ResourceID', namespaces=NS)\n",
    "        name = spase.find('.//Name', namespaces=NS)\n",
    "        description = spase.find('.//Description', namespaces=NS)\n",
    "        #print('Name: ', name.text)\n",
    "        print('ResourceID: ', id.text)\n",
    "        print('Description: ', description.text[:60], '...')\n",
    "        display(HTML('<a href=\"' + hdp.get_spase_url(id.text) +\n",
    "                     '\" target=\"_blank\">' + \n",
    "                    'HTML representation of SPASE</a>'))\n",
    "        ws_access_url_element = \\\n",
    "            spase.find('.//AccessURL[Style=\"WebService\"]', namespaces=NS)\n",
    "        if ws_access_url_element is not None:\n",
    "            ws_access_url = AccessURL(ws_access_url_element)\n",
    "            ws_name = ws_access_url.name\n",
    "            ws_product_key = ws_access_url.product_key[0]\n",
    "            if \"CDAWeb\" in ws_name:\n",
    "                display(HTML('<a href=\"' + ws_access_url.url + \n",
    "                             '\" target=\"_blank\">' + \n",
    "                             'Example data access code</a>'))\n",
    "                print('Retrieving data...')\n",
    "                example_interval = cdas.get_example_time_interval(ws_product_key)\n",
    "                var_names = cdas.get_variable_names(ws_product_key)\n",
    "                data = cdas.get_data(ws_product_key, var_names,\n",
    "                                     example_interval,\n",
    "                                     dataRepresentation = dr.XARRAY)[1]\n",
    "                print(data)"
   ]
  },
  {
   "cell_type": "markdown",
   "id": "95184ddd",
   "metadata": {},
   "source": [
    "## Additional Documentation\n",
    "View the [hdpws](https://heliophysicsdata.gsfc.nasa.gov/WebServices/py/hdpws/) and [cdasws](https://cdaweb.gsfc.nasa.gov/WebServices/REST/py/cdasws/) API documentation for a description of additional features."
   ]
  },
  {
   "cell_type": "code",
   "execution_count": null,
   "id": "80111da4",
   "metadata": {},
   "outputs": [],
   "source": []
  }
 ],
 "metadata": {
  "kernelspec": {
   "display_name": "Python 3 (ipykernel)",
   "language": "python",
   "name": "python3"
  },
  "language_info": {
   "codemirror_mode": {
    "name": "ipython",
    "version": 3
   },
   "file_extension": ".py",
   "mimetype": "text/x-python",
   "name": "python",
   "nbconvert_exporter": "python",
   "pygments_lexer": "ipython3",
   "version": "3.10.5"
  }
 },
 "nbformat": 4,
 "nbformat_minor": 5
}
