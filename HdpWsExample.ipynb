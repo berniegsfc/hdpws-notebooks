{
 "cells": [
  {
   "cell_type": "markdown",
   "id": "c9f853f0",
   "metadata": {},
   "source": [
    "# hdpws Example Jupyter Notebook\n",
    "![SPASE inside](https://spase-group.org/assets/images/spase-inside.png)\n",
    "This [Jupyter notebook](https://jupyter.org/) demonstrates using the [hdpws](https://pypi.org/project/hdpws/) Python package to access [Space Physics Archive Search and Extract](https://spase-group.org/) (SPASE) metadata documents from the [Heliophysics Data Portal](https://heliophysicsdata.gsfc.nasa.gov/) (HDP).  It assumes some familarity with the [SPASE data model](https://spase-group.org/data/index.html).  This notebook contains the following sections:\n",
    "1. [Prerequisites](#Prerequisites)\n",
    "2. [Setup](#Setup)\n",
    "3. [Get ApplicationInterfaces](#Get-ApplicationInterfaces)\n",
    "4. [Get MeasurementTypes](#Get-MeasurementTypes)\n",
    "5. [Get SpectralRanges](#Get-SpectralRanges)\n",
    "6. [Get PhenomenonTypes](#Get-PhenomenonTypes)\n",
    "7. [Get ObservedRegions](#Get-ObservedRegions)\n",
    "8. [Get ObservatoryIDs](#Get-ObservatoryIDs)\n",
    "9. [Get Keywords](#Get-Keywords)\n",
    "10. [Get Numerical/Display Data](#Get-Numerical/Display-Data)\n",
    "11. [Get Catalog](#Get-Catalog)\n",
    "12. [Get Collection](#Get-Collection)\n",
    "13. [Get Document](#Get-Document)\n",
    "14. [Get Software](#Get-Software)\n",
    "15. [Get a SPASE document by ResourceID](#Get-a-SPASE-document-by-ResourceID)\n",
    "16. [Conditionally get a SPASE document](#Conditionally-get-a-SPASE-document)\n",
    "17. [Error Handling](#Error-Handling)\n",
    "18. [Additional Documentation](#Additional-Documentation)"
   ]
  },
  {
   "cell_type": "markdown",
   "id": "facb7ecc",
   "metadata": {},
   "source": [
    "## Prerequisites\n",
    "Install the prerequisite software from [Python Package Index](https://pypi.org/project/hdpws/) (PyPI) software repository.\n",
    "1. pip install hdpws"
   ]
  },
  {
   "cell_type": "markdown",
   "id": "7a59dd89",
   "metadata": {},
   "source": [
    "## Setup\n",
    "Execute some preliminary code that is necessary before the code that follows."
   ]
  },
  {
   "cell_type": "code",
   "execution_count": 34,
   "id": "13384804",
   "metadata": {},
   "outputs": [],
   "source": [
    "from hdpws.hdpws import HdpWs\n",
    "from hdpws import NAMESPACES as NS\n",
    "from hdpws.resourcetype import ResourceType as rt\n",
    "from hdpws.spase import AccessURL, HapiAccessURL\n",
    "\n",
    "from IPython.core.display import HTML\n",
    "\n",
    "hdp = HdpWs()\n",
    "# limit display of long lists\n",
    "DISP_LIMIT = 5\n",
    "\n",
    "def display_link(\n",
    "    url: str,\n",
    "    text: str) -> None:\n",
    "    display(HTML(f'&nbsp;&nbsp;&nbsp;&nbsp;&nbsp;<a href=\"{url}\" target=\"_blank\">{text}</a>'))"
   ]
  },
  {
   "cell_type": "markdown",
   "id": "49f90fd9",
   "metadata": {},
   "source": [
    "## Get ApplicationInterfaces\n",
    "The following code demonstrates how to get the list of available /Spase/Software/ApplicationInterface values."
   ]
  },
  {
   "cell_type": "code",
   "execution_count": 35,
   "id": "0d3075c3",
   "metadata": {},
   "outputs": [
    {
     "name": "stdout",
     "output_type": "stream",
     "text": [
      "HDP ApplicationInterfaces:\n",
      "    CLI\n",
      "    GUI\n",
      "    API\n"
     ]
    }
   ],
   "source": [
    "result = hdp.get_application_interfaces()\n",
    "print('HDP ApplicationInterfaces:')\n",
    "for value in result['ApplicationInterface']:\n",
    "    print(f'    {value}')"
   ]
  },
  {
   "cell_type": "markdown",
   "id": "b02e25cb",
   "metadata": {},
   "source": [
    "## Get MeasurementTypes\n",
    "The following code demonstrates how to get the list of available /Spase/MeasurementType values."
   ]
  },
  {
   "cell_type": "code",
   "execution_count": 36,
   "id": "5936c67c",
   "metadata": {},
   "outputs": [
    {
     "name": "stdout",
     "output_type": "stream",
     "text": [
      "HDP MeasurementTypes:\n",
      "0. ActivityIndex\n",
      "1. Dopplergram\n",
      "2. Dust\n",
      "3. ElectricField\n",
      "4. EnergeticParticles\n",
      "5. Ephemeris\n",
      "6. ImageIntensity\n",
      "7. InstrumentStatus\n",
      "8. IonComposition\n",
      "9. Irradiance\n",
      "10. MagneticField\n",
      "11. Magnetogram\n",
      "12. NeutralAtomImages\n",
      "13. NeutralGas\n",
      "14. Profile\n",
      "15. Radiance\n",
      "16. Spectrum\n",
      "17. SPICE\n",
      "18. ThermalPlasma\n",
      "19. Waves\n",
      "20. Waves.Active\n",
      "21. Waves.Passive\n"
     ]
    }
   ],
   "source": [
    "result = hdp.get_measurement_types()\n",
    "print(f'HDP MeasurementTypes:')\n",
    "for i, value in enumerate(result['MeasurementType']):\n",
    "    print(f'{i}. {value}')"
   ]
  },
  {
   "cell_type": "markdown",
   "id": "485674d6",
   "metadata": {},
   "source": [
    "## Get SpectralRanges\n",
    "The following code demonstrates how to get the list of available /Spase/SpectralRange values."
   ]
  },
  {
   "cell_type": "code",
   "execution_count": 37,
   "id": "7ef3416f",
   "metadata": {},
   "outputs": [
    {
     "name": "stdout",
     "output_type": "stream",
     "text": [
      "HDP SpectralRanges:\n",
      "0. CaK\n",
      "1. ExtremeUltraviolet\n",
      "2. FarUltraviolet\n",
      "3. GammaRays\n",
      "4. Halpha\n",
      "5. HardXRays\n",
      "6. He10830\n",
      "7. He304\n",
      "8. Infrared\n",
      "9. K7699\n",
      "10. LBHBand\n",
      "11. Microwave\n",
      "12. NaD\n",
      "13. Ni6768\n",
      "14. Optical\n",
      "15. RadioFrequency\n",
      "16. SoftXRays\n",
      "17. Ultraviolet\n",
      "18. WhiteLight\n",
      "19. XRays\n"
     ]
    }
   ],
   "source": [
    "result = hdp.get_spectral_ranges()\n",
    "print(f'HDP SpectralRanges:')\n",
    "for i, value in enumerate(result['SpectralRange']):\n",
    "    print(f'{i}. {value}')"
   ]
  },
  {
   "cell_type": "markdown",
   "id": "d9c54f06",
   "metadata": {},
   "source": [
    "## Get PhenomenonTypes\n",
    "The following code demonstrates how to get the list of available /Spase/PhenomenonType values."
   ]
  },
  {
   "cell_type": "code",
   "execution_count": 38,
   "id": "1fc98cc5",
   "metadata": {},
   "outputs": [
    {
     "name": "stdout",
     "output_type": "stream",
     "text": [
      "HDP PhenomenonTypes:\n",
      "0. ActiveRegion\n",
      "1. Aurora\n",
      "2. BowShockCrossing\n",
      "3. CoronalHole\n",
      "4. CoronalMassEjection\n",
      "5. EITWave\n",
      "6. EnergeticSolarParticleEvent\n",
      "7. ForbushDecrease\n",
      "8. GeomagneticStorm\n",
      "9. InterplanetaryCoronalMassEjection\n",
      "10. InterplanetaryShock\n",
      "11. MagneticCloud\n",
      "12. MagnetopauseCrossing\n",
      "13. RadioBurst\n",
      "14. SectorBoundaryCrossing\n",
      "15. SolarFlare\n",
      "16. SolarWindExtreme\n",
      "17. StreamInteractionRegion\n",
      "18. Substorm\n"
     ]
    }
   ],
   "source": [
    "result = hdp.get_phenomenon_types()\n",
    "print(f'HDP PhenomenonTypes:')\n",
    "for i, value in enumerate(result['PhenomenonType']):\n",
    "    print(f'{i}. {value}')"
   ]
  },
  {
   "cell_type": "markdown",
   "id": "da6696f4",
   "metadata": {},
   "source": [
    "## Get ObservedRegions\n",
    "The following code demonstrates how to get the list of available /Spase/ObservedRegion values."
   ]
  },
  {
   "cell_type": "code",
   "execution_count": 39,
   "id": "777fb0a0",
   "metadata": {},
   "outputs": [
    {
     "name": "stdout",
     "output_type": "stream",
     "text": [
      "HDP Observed Regions:\n",
      "0. Asteroid\n",
      "1. Comet\n",
      "2. Comet.1PHalley\n",
      "3. Comet.26PGriggSkjellerup\n",
      "4. Comet.67PChuryumovGerasimenko\n",
      "5. Earth\n",
      "...\n",
      "124. Venus.Magnetosphere.RingCurrent\n"
     ]
    }
   ],
   "source": [
    "result = hdp.get_observed_regions()\n",
    "observed_regions = result['ObservedRegion']\n",
    "print(f'HDP Observed Regions:')\n",
    "for i, value in enumerate(observed_regions):\n",
    "    print(f'{i}. {value}')\n",
    "    if i == DISP_LIMIT:\n",
    "        print('...')\n",
    "        print(f'{len(observed_regions) - 1}. {observed_regions[-1]}')\n",
    "        break"
   ]
  },
  {
   "cell_type": "markdown",
   "id": "b8f26087",
   "metadata": {},
   "source": [
    "## Get ObservatoryIDs\n",
    "The following code demonstrates how to get the list of available /Spase/Observatory/ResourceID values."
   ]
  },
  {
   "cell_type": "code",
   "execution_count": 40,
   "id": "5bfea9b9",
   "metadata": {},
   "outputs": [
    {
     "name": "stdout",
     "output_type": "stream",
     "text": [
      "HDP ObservatoryIDs:\n",
      "0. spase://SMWG/Observatory/AE-D\n",
      "1. spase://SMWG/Observatory/Helios1\n",
      "2. spase://SMWG/Observatory/DynamicsExplorer1\n",
      "3. spase://SMWG/Observatory/SolarOrbiter\n",
      "4. spase://SMWG/Observatory/IMP8\n",
      "5. spase://SMWG/Observatory/MarsExpress\n",
      "...\n",
      "4043. spase://SMWG/Observatory/UNH\n"
     ]
    }
   ],
   "source": [
    "result = hdp.get_observatory_ids()\n",
    "observatory_ids = result['ObservatoryID']\n",
    "print(f'HDP ObservatoryIDs:')\n",
    "for i, value in enumerate(observatory_ids):\n",
    "    print(f'{i}. {value}')\n",
    "    if i == DISP_LIMIT:\n",
    "        print('...')\n",
    "        print(f'{len(observatory_ids) - 1}. {observatory_ids[-1]}')\n",
    "        break"
   ]
  },
  {
   "cell_type": "markdown",
   "id": "508408e2",
   "metadata": {},
   "source": [
    "## Get Keywords\n",
    "The following code demonstrates how to get a list of available //Keyword values."
   ]
  },
  {
   "cell_type": "code",
   "execution_count": 41,
   "id": "76e7d7a6",
   "metadata": {},
   "outputs": [
    {
     "name": "stdout",
     "output_type": "stream",
     "text": [
      "HDP Keywords:\n",
      "0. 60 sec\n",
      "1. ground magnetometer data\n",
      "2. electroject ionospheric currents\n",
      "3. auroral electrojet index\n",
      "4. 10 sec\n",
      "5. spherical elementary current amplitudes\n",
      "...\n",
      "1518. WDC Station Code: KZN\n"
     ]
    }
   ],
   "source": [
    "result = hdp.get_keywords()\n",
    "keywords = result['Keyword']\n",
    "print(f'HDP Keywords:')\n",
    "for i, value in enumerate(keywords):\n",
    "    print(f'{i}. {value}')\n",
    "    if i == DISP_LIMIT:\n",
    "        print('...')\n",
    "        print(f'{len(keywords) - 1}. {keywords[-1]}')\n",
    "        break"
   ]
  },
  {
   "cell_type": "markdown",
   "id": "f126da36",
   "metadata": {},
   "source": [
    "## Get Numerical/Display Data\n",
    "The following code demonstrates how to get SPASE Numerical/Display data documents matching the specified search criteria."
   ]
  },
  {
   "cell_type": "code",
   "execution_count": 42,
   "id": "d010721f",
   "metadata": {},
   "outputs": [
    {
     "name": "stdout",
     "output_type": "stream",
     "text": [
      "0. ResourceID: spase://NASA/NumericalData/ACE/CRIS/L2/PT1H\n",
      "--------------------------------------------------\n",
      "Description: ACE Cosmic Ray Isotope Spectrometer (CRIS) intensities and c ...\n"
     ]
    },
    {
     "data": {
      "text/html": [
       "&nbsp;&nbsp;&nbsp;&nbsp;&nbsp;<a href=\"https://heliophysicsdata.gsfc.nasa.gov/WS/hdp/1/Spase?ResourceID=spase://NASA/NumericalData/ACE/CRIS/L2/PT1H\" target=\"_blank\">HTML representation of SPASE</a>"
      ],
      "text/plain": [
       "<IPython.core.display.HTML object>"
      ]
     },
     "metadata": {},
     "output_type": "display_data"
    },
    {
     "name": "stdout",
     "output_type": "stream",
     "text": [
      "Web Service access:\n"
     ]
    },
    {
     "data": {
      "text/html": [
       "&nbsp;&nbsp;&nbsp;&nbsp;&nbsp;<a href=\"https://cdaweb.gsfc.nasa.gov/WS/cdasr/1/dataviews/sp_phys/datasets/AC_H2_CRIS/clientLibraryExample/\" target=\"_blank\">Example data access code</a>"
      ],
      "text/plain": [
       "<IPython.core.display.HTML object>"
      ]
     },
     "metadata": {},
     "output_type": "display_data"
    },
    {
     "name": "stdout",
     "output_type": "stream",
     "text": [
      "HAPI access:\n",
      "    URL:  https://cdaweb.gsfc.nasa.gov/hapi\n",
      "    Dataset IDs:  ['AC_H2_CRIS']\n"
     ]
    },
    {
     "data": {
      "text/html": [
       "&nbsp;&nbsp;&nbsp;&nbsp;&nbsp;<a href=\"https://cdaweb.gsfc.nasa.gov/registry/hdp/hapi/hapiHtml.html#url=https://cdaweb.gsfc.nasa.gov/hapi&id=AC_H2_CRIS\" target=\"_blank\">HAPI access information</a>"
      ],
      "text/plain": [
       "<IPython.core.display.HTML object>"
      ]
     },
     "metadata": {},
     "output_type": "display_data"
    },
    {
     "name": "stdout",
     "output_type": "stream",
     "text": [
      "\n",
      "1. ResourceID: spase://NASA/NumericalData/ParkerSolarProbe/SWEAP/SPAN-I/Level2/AlphaDifferentialEnergyFlux/VariableCadence\n",
      "--------------------------------------------------\n",
      "Description: Parker Solar Probe SPAN-I Alpha particle differential energy ...\n"
     ]
    },
    {
     "data": {
      "text/html": [
       "&nbsp;&nbsp;&nbsp;&nbsp;&nbsp;<a href=\"https://heliophysicsdata.gsfc.nasa.gov/WS/hdp/1/Spase?ResourceID=spase://NASA/NumericalData/ParkerSolarProbe/SWEAP/SPAN-I/Level2/AlphaDifferentialEnergyFlux/VariableCadence\" target=\"_blank\">HTML representation of SPASE</a>"
      ],
      "text/plain": [
       "<IPython.core.display.HTML object>"
      ]
     },
     "metadata": {},
     "output_type": "display_data"
    },
    {
     "name": "stdout",
     "output_type": "stream",
     "text": [
      "Web Service access:\n"
     ]
    },
    {
     "data": {
      "text/html": [
       "&nbsp;&nbsp;&nbsp;&nbsp;&nbsp;<a href=\"https://cdaweb.gsfc.nasa.gov/WS/cdasr/1/dataviews/sp_phys/datasets/PSP_SWP_SPI_SF01_L2_8DX32EX8A/clientLibraryExample/\" target=\"_blank\">Example data access code</a>"
      ],
      "text/plain": [
       "<IPython.core.display.HTML object>"
      ]
     },
     "metadata": {},
     "output_type": "display_data"
    },
    {
     "name": "stdout",
     "output_type": "stream",
     "text": [
      "HAPI access:\n",
      "    URL:  https://cdaweb.gsfc.nasa.gov/hapi\n",
      "    Dataset IDs:  ['PSP_SWP_SPI_SF01_L2_8DX32EX8A']\n"
     ]
    },
    {
     "data": {
      "text/html": [
       "&nbsp;&nbsp;&nbsp;&nbsp;&nbsp;<a href=\"https://cdaweb.gsfc.nasa.gov/registry/hdp/hapi/hapiHtml.html#url=https://cdaweb.gsfc.nasa.gov/hapi&id=PSP_SWP_SPI_SF01_L2_8DX32EX8A\" target=\"_blank\">HAPI access information</a>"
      ],
      "text/plain": [
       "<IPython.core.display.HTML object>"
      ]
     },
     "metadata": {},
     "output_type": "display_data"
    },
    {
     "name": "stdout",
     "output_type": "stream",
     "text": [
      "\n"
     ]
    }
   ],
   "source": [
    "query = {\n",
    "    'InstrumentID': 'spase://SMWG/Instrument/ACE/CRIS',\n",
    "    'Cadence': '=PT1H',\n",
    "    'ObservedRegion': 'Heliosphere.NearEarth',\n",
    "    'MeasurementType': 'EnergeticParticles',\n",
    "    'AccessRights': 'Open',\n",
    "    'Format': 'CDF'\n",
    "}       \n",
    "types = [rt.NUMERICAL_DATA, rt.DISPLAY_DATA]\n",
    "time_range = ['2022-01-01', '2022-01-02']\n",
    "result = hdp.get_spase_data(types, query, time_range)\n",
    "if result['HttpStatus'] == 200:\n",
    "    for i, spase in enumerate(result['Result'].findall('.//Spase', namespaces=NS)):\n",
    "        id = spase.find('.//ResourceID', namespaces=NS)\n",
    "        name = spase.find('.//Name', namespaces=NS)\n",
    "        description = spase.find('.//Description', namespaces=NS)\n",
    "        #print(name.text)\n",
    "        print(f'{i}. ResourceID: {id.text}')\n",
    "        print('--------------------------------------------------')\n",
    "        print(f'Description: {description.text[:60]} ...')\n",
    "        display_link(hdp.get_spase_url(id.text), 'HTML representation of SPASE')\n",
    "        ws_access_url_element = \\\n",
    "            spase.find('.//AccessURL[Style=\"WebService\"]', namespaces=NS)\n",
    "        if ws_access_url_element is not None:\n",
    "            ws_access_url = AccessURL(ws_access_url_element)\n",
    "            print('Web Service access:')\n",
    "\n",
    "            display_link(ws_access_url.url, 'Example data access code')\n",
    "            #print('    URL: ', ws_access_url.url) \n",
    "        hapi_access_url_element = \\\n",
    "            spase.find('.//AccessURL[Style=\"HAPI\"]', namespaces=NS)\n",
    "        if hapi_access_url_element is not None:\n",
    "            hapi_access_url = HapiAccessURL(hapi_access_url_element)\n",
    "            print('HAPI access:')\n",
    "            print('    URL: ', hapi_access_url.url)\n",
    "            print('    Dataset IDs: ', hapi_access_url.product_key)\n",
    "            hapi_display_url = hapi_access_url.get_html_url()\n",
    "            display_link(hapi_access_url.get_html_url(), 'HAPI access information')\n",
    "        print()"
   ]
  },
  {
   "cell_type": "markdown",
   "id": "a7b52df2",
   "metadata": {},
   "source": [
    "## Get Catalog\n",
    "The following code demonstrates how to get a SPASE Catalog document matching the specified criteria."
   ]
  },
  {
   "cell_type": "code",
   "execution_count": 43,
   "id": "49fb4cc0",
   "metadata": {},
   "outputs": [
    {
     "name": "stdout",
     "output_type": "stream",
     "text": [
      "Result Catalogs:\n",
      "ResourceID:  spase://NASA/Catalog/Eriksson/WindCurrentSheetExhaustList\n",
      "ResourceName:  Wind Current Sheet_Exhaust Event List in LMN Coordinates\n",
      "Description: The dataset contains a list of solar wind current sheet exhaust event data derived from Wind interplanetary magnetic field and solar wind plasma observations. The list is described in a peer reviewed article, Eriksson et al. 2022, titled: Characteristics of Multi-Scale Current Sheets in the Solar Wind at 1 AU Associated with Magnetic Reconnection and the Case for a Heliospheric Current Sheet Avalanche. The data is listed as an ASCII table with eleven columns including the current sheet (CS) start date/time and stop date/time, and the three unit vectors of each CS in a GSE base coordinate system. Here, NGSE is the CS normal direction, LGSE is the direction of the reconnecting component of the magnetic field, and MGSE is the cross-product MGS ...\n"
     ]
    }
   ],
   "source": [
    "query = { \n",
    "#    'InstrumentID': 'spase://SMWG/Instrument/ACE/MAG',\n",
    "#    'PhenomenonType': 'MagneticCloud',\n",
    "#    'Description': 'ICME'\n",
    "    'Keyword': 'current sheet'\n",
    "}   \n",
    "#time_range = ['1999-01-01', '1999-01-02']\n",
    "time_range = ['2005-01-01', '2014-01-01']\n",
    "result = hdp.get_spase_catalog(query, time_range)\n",
    "if result['HttpStatus'] == 200:\n",
    "    print('Result Catalogs:')\n",
    "    for catalog in result['Result'].findall('.//Catalog',\n",
    "                                           namespaces=NS):\n",
    "        print('ResourceID: ', catalog.findall('.//ResourceID',\n",
    "                             namespaces=NS)[0].text)\n",
    "        print('ResourceName: ', catalog.findall('.//ResourceName',\n",
    "                                     namespaces=NS)[0].text) \n",
    "        print('Description:', \n",
    "              catalog.findall('.//Description',\n",
    "                              namespaces=NS)[0].text[:750],\n",
    "             '...')"
   ]
  },
  {
   "cell_type": "markdown",
   "id": "de0554af",
   "metadata": {},
   "source": [
    "## Get Collection\n",
    "The following code demonstrates how to get a SPASE Collection document matching the specified criteria."
   ]
  },
  {
   "cell_type": "code",
   "execution_count": 44,
   "id": "96fd15af",
   "metadata": {},
   "outputs": [
    {
     "name": "stdout",
     "output_type": "stream",
     "text": [
      "ResourceID:  spase://NASA/Collection/IRIS/IRIS_SDOAIA\n",
      "ResourceName:  Co-aligned Interface Region Imaging Spectrograph (IRIS) and Solar Dynamics Observatory (SDO) Atmospheric Imaging Assembly (AIA) Observations\n",
      "Collection members:\n",
      "    spase://NASA/NumericalData/IRIS/IRIS/PT1S\n",
      "    spase://NASA/NumericalData/SDO/AIA/PT12S\n"
     ]
    }
   ],
   "source": [
    "query = { \n",
    "    'ResourceID': 'spase://NASA/Collection/IRIS/IRIS_SDOAIA',\n",
    "    'MemberID': 'spase://NASA/NumericalData/IRIS/IRIS/PT1S',\n",
    "    'Description': 'IRIS AND SDO and AIA'\n",
    "}   \n",
    "result = hdp.get_spase_collection(query)\n",
    "if result['HttpStatus'] == 200:\n",
    "    for collection in result['Result'].findall('.//Collection',\n",
    "                                               namespaces=NS):\n",
    "        print('ResourceID: ', collection.find('.//ResourceID',\n",
    "                                              namespaces=NS).text)\n",
    "        print('ResourceName: ', collection.find('.//ResourceName',\n",
    "                                                namespaces=NS).text)\n",
    "        print('Collection members:')\n",
    "        for member in collection.findall('.//Member',\n",
    "                                         namespaces=NS):\n",
    "            member_id = member.find('.//MemberID',\n",
    "                                    namespaces=NS)\n",
    "            print(f'    {member_id.text}')\n",
    "else:\n",
    "    print(result['HttpStatus'])"
   ]
  },
  {
   "cell_type": "markdown",
   "id": "d6b0b477",
   "metadata": {},
   "source": [
    "## Get Document\n",
    "The following code demonstrates how to get the SPASE Document matching the specified criteria."
   ]
  },
  {
   "cell_type": "code",
   "execution_count": 45,
   "id": "e15fa4d5",
   "metadata": {},
   "outputs": [
    {
     "name": "stdout",
     "output_type": "stream",
     "text": [
      "Result Documents:\n",
      "ResourceName:  NASA Heliophysics Science Data Management Policy v. 1.2\n",
      "Description: NASA Heliophysics document that provides guidance on all aspects of HP data, including what needs to go into a Program Data Management Plan, the structure and use of archives, required formats, and a description of the data registry, all in the context of the data lifecycle.\n",
      "URL: https://cdaweb.gsfc.nasa.gov/pub/documents/HPDE/Heliophysics_Data_Policy_v1.2_2016Oct04_signed.pdf\n"
     ]
    }
   ],
   "source": [
    "query = {\n",
    "    'ResourceID': 'spase://SMWG/Document/HPDE/Policy/HP_DataPolicy_v1.2',\n",
    "    'DOI': '10.21978/P83P78',\n",
    "    'Description': '\"Program Data Management Plan\"'\n",
    "}\n",
    "result = hdp.get_spase_document(query)\n",
    "if result['HttpStatus'] == 200:\n",
    "    print('Result Documents:')\n",
    "    for document in result['Result'].findall('.//Document', \n",
    "                                             namespaces=NS):\n",
    "        print('ResourceName: ', document.find('.//ResourceName', \n",
    "                                              namespaces=NS).text)\n",
    "        description = document.find('.//Description', \n",
    "                                    namespaces=NS)\n",
    "        print(f'Description: {description.text}')\n",
    "        url = document.find('.//AccessInformation/AccessURL/URL',\n",
    "                           namespaces=NS)\n",
    "        print(f'URL: {url.text}')"
   ]
  },
  {
   "cell_type": "markdown",
   "id": "4b06a4a5",
   "metadata": {},
   "source": [
    "## Get Software\n",
    "The following code demonstrates how to get the SPASE Software matching the specified criteria."
   ]
  },
  {
   "cell_type": "code",
   "execution_count": 46,
   "id": "8acd1f27",
   "metadata": {},
   "outputs": [
    {
     "name": "stdout",
     "output_type": "stream",
     "text": [
      "Result Software:\n",
      "spase://CCMC/Software/Kamodo\n",
      "    CCMC Kamodo Software\n"
     ]
    }
   ],
   "source": [
    "query = { \n",
    "    'ResourceID': 'spase://CCMC/Software/Kamodo',\n",
    "    'CodeLanguage': 'Python',\n",
    "    'Description': '\"space weather models and data\"'\n",
    "}\n",
    "\n",
    "result = hdp.get_spase_software(query)\n",
    "if result['HttpStatus'] == 200:\n",
    "    print('Result Software:')\n",
    "    for software in result['Result'].findall('.//Software', namespaces=NS):\n",
    "        print(software.findall('.//ResourceID', namespaces=NS)[0].text)\n",
    "        print(f'    {software.findall(\".//ResourceName\", namespaces=NS)[0].text}')"
   ]
  },
  {
   "cell_type": "markdown",
   "id": "eb0e8e23",
   "metadata": {},
   "source": [
    "## Get a SPASE document by ResourceID\n",
    "The following code demonstrates how to get the SPASE document with the specified ResourceID."
   ]
  },
  {
   "cell_type": "code",
   "execution_count": 47,
   "id": "6b26e794",
   "metadata": {},
   "outputs": [
    {
     "name": "stdout",
     "output_type": "stream",
     "text": [
      "get_spase Result ResourceIDs:\n",
      "ResourceID:  spase://SMWG/Service/CCMC/Models\n",
      "ResourceName:  CCMC Modelweb page\n",
      "ResourceID:  spase://SMWG/Service/CCMC/Models\n",
      "ResourceName:  CCMC Modelweb page\n",
      "last_modified = 2024-01-11T11:39:22+00:00\n"
     ]
    }
   ],
   "source": [
    "resource_ids = [\n",
    "    'spase://NASA/Collection/IRIS_AIA',\n",
    "    'spase://SMWG/Service/CCMC/Models'\n",
    "]\n",
    "result = hdp.get_spase(resource_ids)\n",
    "if result['HttpStatus'] == 200:\n",
    "    print('get_spase Result ResourceIDs:')\n",
    "    for spase in result['Result'].findall('.//Spase',\n",
    "                                         namespaces=NS):\n",
    "        print('ResourceID: ', spase.find('.//ResourceID',\n",
    "                           namespaces=NS).text)\n",
    "        print('ResourceName: ', spase.find('.//ResourceName',\n",
    "                                   namespaces=NS).text)\n",
    "    if 'Last-Modified' in result:\n",
    "        last_modified = result['Last-Modified']\n",
    "        print(f'last_modified = {last_modified.isoformat()}')"
   ]
  },
  {
   "cell_type": "markdown",
   "id": "565ddb4f",
   "metadata": {},
   "source": [
    "## Conditionally get a SPASE document\n",
    "The following code demonstrates how to get a SPASE document only if it has been modified since the last time it was gotten."
   ]
  },
  {
   "cell_type": "code",
   "execution_count": 48,
   "id": "97343a9f",
   "metadata": {},
   "outputs": [
    {
     "name": "stdout",
     "output_type": "stream",
     "text": [
      "get_spase if_modified_since 2024-01-11T11:39:22+00:00 return Not Modified\n"
     ]
    }
   ],
   "source": [
    "if last_modified is not None:\n",
    "    result = hdp.get_spase(resource_ids, if_modified_since=last_modified)\n",
    "\n",
    "    if result['HttpStatus'] == 304:\n",
    "        print(f'get_spase if_modified_since {last_modified.isoformat()} return Not Modified')\n",
    "    else:\n",
    "        print(f'get_spase if_modified_since returned an unexpected result {result[\"HttpStatus\"]}')"
   ]
  },
  {
   "cell_type": "markdown",
   "id": "bb16c3c3",
   "metadata": {},
   "source": [
    "## Error Handling\n",
    "The following code demonstrates how to view an error message from the server in response to a bad request from the client."
   ]
  },
  {
   "cell_type": "code",
   "execution_count": 49,
   "id": "7d40c1ec",
   "metadata": {},
   "outputs": [
    {
     "name": "stdout",
     "output_type": "stream",
     "text": [
      "hdp.get_spase() failed with status = 400\n",
      "ErrorMessage = Bad Request\n",
      "ErrorDescription = Invalid Description syntax.\n",
      "Display of actual HTML page returned:\n"
     ]
    },
    {
     "data": {
      "text/html": [
       "<html xmlns=\"http://www.w3.org/1999/xhtml\" lang=\"en\" xml:lang=\"en\">\n",
       "    <head>\n",
       "        <title>Bad Request</title>\n",
       "    </head>\n",
       "    <body>\n",
       "        <p class=\"ErrorMessage\"><b>Message: </b>Bad Request</p>\n",
       "        <p class=\"ErrorDescription\"><b>Description: </b>Invalid Description syntax.</p>\n",
       "        <div>\n",
       "            <p>See <a href=\"https://lucene.apache.org/\">Apache Lucene</a>\n",
       "                                for a description of the search syntax.</p>\n",
       "            <p>Contact 📧 <a href=\"mailto:NASA-SPDF-Support@nasa.onmicrosoft.com?Subject=HDP Web Services\">NASA-SPDF-Support</a> if additional help is required.</p>\n",
       "        </div>\n",
       "    </body>\n",
       "</html>"
      ],
      "text/plain": [
       "<IPython.core.display.HTML object>"
      ]
     },
     "metadata": {},
     "output_type": "display_data"
    }
   ],
   "source": [
    "query = {\n",
    "    'ResourceID': ['spase://NASA/NumericalData/ACE/CRIS/L2/P1D'],\n",
    "    'Description': '~bad'\n",
    "}\n",
    "result = hdp.get_spase_data(types, query, time_range)\n",
    "if result['HttpStatus'] != 200:\n",
    "    print(f'hdp.get_spase() failed with status = {result[\"HttpStatus\"]}')\n",
    "    if 'ErrorMessage' in result:\n",
    "        print(f'ErrorMessage = {result[\"ErrorMessage\"]}')\n",
    "        print(f'ErrorDescription = {result[\"ErrorDescription\"]}')\n",
    "    #else:\n",
    "        #print(f'HttpText = {result[\"ErrorText\"]}')\n",
    "        print('Display of actual HTML page returned:')\n",
    "        display(HTML(result['ErrorText']))"
   ]
  },
  {
   "cell_type": "markdown",
   "id": "95184ddd",
   "metadata": {},
   "source": [
    "## Additional Documentation\n",
    "View the [hdpws API documentation](https://heliophysicsdata.gsfc.nasa.gov/WebServices/py/hdpws/) for a description of additional features."
   ]
  },
  {
   "cell_type": "code",
   "execution_count": null,
   "id": "80111da4",
   "metadata": {},
   "outputs": [],
   "source": []
  }
 ],
 "metadata": {
  "kernelspec": {
   "display_name": "Python 3 (ipykernel)",
   "language": "python",
   "name": "python3"
  },
  "language_info": {
   "codemirror_mode": {
    "name": "ipython",
    "version": 3
   },
   "file_extension": ".py",
   "mimetype": "text/x-python",
   "name": "python",
   "nbconvert_exporter": "python",
   "pygments_lexer": "ipython3",
   "version": "3.9.18"
  }
 },
 "nbformat": 4,
 "nbformat_minor": 5
}
